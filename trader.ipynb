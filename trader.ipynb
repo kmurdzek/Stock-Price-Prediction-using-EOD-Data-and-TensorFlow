{
  "nbformat": 4,
  "nbformat_minor": 0,
  "metadata": {
    "colab": {
      "provenance": [],
      "authorship_tag": "ABX9TyMzfiQdBe+1nFHtT5D5nfzo",
      "include_colab_link": true
    },
    "kernelspec": {
      "name": "python3",
      "display_name": "Python 3"
    },
    "language_info": {
      "name": "python"
    }
  },
  "cells": [
    {
      "cell_type": "markdown",
      "metadata": {
        "id": "view-in-github",
        "colab_type": "text"
      },
      "source": [
        "<a href=\"https://colab.research.google.com/github/kmurdzek/Stock-Price-Prediction-using-EOD-Data-and-TensorFlow/blob/main/trader.ipynb\" target=\"_parent\"><img src=\"https://colab.research.google.com/assets/colab-badge.svg\" alt=\"Open In Colab\"/></a>"
      ]
    },
    {
      "cell_type": "code",
      "source": [
        "import requests\n",
        "import pandas as pd\n",
        "import numpy as np\n",
        "from io import StringIO\n",
        "import tensorflow as tf\n",
        "import torch\n",
        "from sklearn.model_selection import train_test_split\n",
        "import os\n",
        "API_KEY = os.environ[\"EOD_API_TOKEN\"]"
      ],
      "metadata": {
        "id": "bA5ycb7o4009"
      },
      "execution_count": 4,
      "outputs": []
    },
    {
      "cell_type": "code",
      "source": [
        "def get_eod_data(symbol=\"AAPL.US\", session=None):\n",
        "    api_token=API_KEY\n",
        "    if session is None:\n",
        "        session = requests.Session()\n",
        "    url = 'https://eodhistoricaldata.com/api/eod/%s' % symbol\n",
        "    params = {\n",
        "        \"api_token\": api_token,  # Replace with your API token\n",
        "        \"from\": \"2020-01-01\",  # Start date for the data\n",
        "        \"to\": \"2022-12-31\",  # End date for the data\n",
        "        \"sort_order\": \"asc\"  # Sort the data in ascending order\n",
        "    }\n",
        "    r = session.get(url, params=params)\n",
        "    if r.status_code == requests.codes.ok:\n",
        "        df = pd.read_csv(StringIO(r.text), skipfooter=0, parse_dates=[\n",
        "                         0], index_col=0, engine='python')\n",
        "        df = transform_dataframe(df)\n",
        "        return df\n",
        "\n",
        "    else:\n",
        "        raise Exception(r.status_code, r.reason, url)\n"
      ],
      "metadata": {
        "id": "9u5ZrROx5Scp"
      },
      "execution_count": 3,
      "outputs": []
    },
    {
      "cell_type": "code",
      "source": [
        "def transform_dataframe(df):\n",
        "    #add bolinger bands\n",
        "    df = add_bolinger_bands(df)\n",
        "    df = calculate_rsi(df)\n",
        "    df.pop('Adjusted_close')\n",
        "    df = df.iloc[20:]\n",
        "    target = df.pop('Close')\n",
        "    \n",
        "    numeric_feature_names = ['Open', 'High', 'Low',  'Volume', 'upper_bands', 'lower_bands', 'rsi']\n",
        "    numeric_features = df[numeric_feature_names]\n",
        "    # Split the dataset into a training set and a testing set\n",
        "    x_train, x_test, y_train, y_test = train_test_split(numeric_features, target, test_size=0.2)\n",
        "    x_train = tf.convert_to_tensor(x_train)\n",
        "    x_test = tf.convert_to_tensor(x_test)\n",
        "    normalizer = tf.keras.layers.Normalization(axis=-1)\n",
        "    normalizer.adapt(x_train)\n",
        "    normalizer.adapt(x_test)\n",
        "    model = tf.keras.Sequential([\n",
        "    normalizer,\n",
        "    tf.keras.layers.Dense(units=64, activation=\"relu\"),\n",
        "    tf.keras.layers.Dense(units=1)])\n",
        "\n",
        "    model.compile(optimizer='adam',\n",
        "            loss=\"mse\",metrics=['accuracy'])\n",
        "    model.fit(x_train, y_train, epochs=1000)\n",
        "    print(\"Generate a prediction\")\n",
        "    # Evaluate the model on the testing data\n",
        "    metrics = model.evaluate(x_test, y_test)\n",
        "    print(metrics)\n",
        "    return df"
      ],
      "metadata": {
        "id": "l2y3vPSUYs-k"
      },
      "execution_count": 5,
      "outputs": []
    },
    {
      "cell_type": "code",
      "source": [
        "def calculate_rsi(df):\n",
        "    # Set the number of periods to calculate RSI\n",
        "    window_length = 14\n",
        "\n",
        "    # Calculate the differences in closing prices\n",
        "    df['diff'] = df['Close'].diff().round(2)\n",
        "\n",
        "    # Calculate Avg. Gains/Losses\n",
        "    df['gain'] = df['diff'].clip(lower=0).round(2)\n",
        "    df['loss'] = df['diff'].clip(upper=0).abs().round(2)\n",
        "\n",
        "    # Get initial Averages\n",
        "    df['avg_gain'] = df['gain'].rolling(window=window_length, min_periods=window_length).mean()[:window_length+1]\n",
        "    df['avg_loss'] = df['loss'].rolling(window=window_length, min_periods=window_length).mean()[:window_length+1]\n",
        "    # Get WMS averages\n",
        "    # Average Gains\n",
        "    for i, row in enumerate(df['avg_gain'].iloc[window_length+1:]):\n",
        "        df['avg_gain'].iloc[i + window_length + 1] =\\\n",
        "            (df['avg_gain'].iloc[i + window_length] *\n",
        "            (window_length - 1) +\n",
        "            df['gain'].iloc[i + window_length + 1])\\\n",
        "            / window_length\n",
        "    # Average Losses\n",
        "    for i, row in enumerate(df['avg_loss'].iloc[window_length+1:]):\n",
        "        df['avg_loss'].iloc[i + window_length + 1] =\\\n",
        "            (df['avg_loss'].iloc[i + window_length] *\n",
        "            (window_length - 1) +\n",
        "            df['loss'].iloc[i + window_length + 1])\\\n",
        "            / window_length\n",
        "    # Calculate RS Values\n",
        "    df['rs'] = df['avg_gain'] / df['avg_loss']\n",
        "    # Calculate RSI\n",
        "    df['rsi'] = 100 - (100 / (1.0 + df['rs']))\n",
        "    return df"
      ],
      "metadata": {
        "id": "m6N_HlhkZvE5"
      },
      "execution_count": 6,
      "outputs": []
    },
    {
      "cell_type": "code",
      "source": [
        "def add_bolinger_bands(df):\n",
        "      # Calculate the Bollinger bands\n",
        "  df[\"upper_bands\"] = df[\"Close\"].rolling(\n",
        "      20).mean() + 2 * df[\"Close\"].rolling(20).std()\n",
        "  df[\"lower_bands\"] = df[\"Close\"].rolling(\n",
        "      20).mean() - 2 * df[\"Close\"].rolling(20).std()\n",
        "  return df"
      ],
      "metadata": {
        "id": "Mt1N6pVgZaKf"
      },
      "execution_count": 7,
      "outputs": []
    },
    {
      "cell_type": "code",
      "source": [
        "get_eod_data()"
      ],
      "metadata": {
        "id": "BzZEIhA97xwD"
      },
      "execution_count": null,
      "outputs": []
    }
  ]
}